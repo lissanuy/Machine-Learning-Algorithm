{
 "cells": [
  {
   "cell_type": "markdown",
   "metadata": {},
   "source": [
    "## Function"
   ]
  },
  {
   "cell_type": "markdown",
   "metadata": {},
   "source": [
    "Function adalah sebuah blok statemen yang hanya akan dijalankan saat ia dipanggil .!"
   ]
  },
  {
   "cell_type": "code",
   "execution_count": 1,
   "metadata": {},
   "outputs": [
    {
     "data": {
      "text/plain": [
       "5"
      ]
     },
     "execution_count": 1,
     "metadata": {},
     "output_type": "execute_result"
    }
   ],
   "source": [
    "genap = [2,4,6,8,10]\n",
    "len (genap)"
   ]
  },
  {
   "cell_type": "code",
   "execution_count": 3,
   "metadata": {},
   "outputs": [
    {
     "name": "stdout",
     "output_type": "stream",
     "text": [
      "Assalamualaikum Dunia\n"
     ]
    }
   ],
   "source": [
    "print('Assalamualaikum Dunia')"
   ]
  },
  {
   "cell_type": "markdown",
   "metadata": {},
   "source": [
    "### Keyword & Argumen!"
   ]
  },
  {
   "cell_type": "raw",
   "metadata": {},
   "source": [
    "keyword/Parameter : variabel yang digunakan dalam deklarasi fungsi\n",
    "Argumen : nilai yang diberikan saat pemanggil fungsi"
   ]
  },
  {
   "cell_type": "code",
   "execution_count": 7,
   "metadata": {},
   "outputs": [
    {
     "name": "stdout",
     "output_type": "stream",
     "text": [
      "kata1*kata2\n"
     ]
    }
   ],
   "source": [
    "#sep = keyword/argument\n",
    "#'-' = argument\n",
    "\n",
    "print('kata1', 'kata2', sep='*')"
   ]
  },
  {
   "cell_type": "markdown",
   "metadata": {},
   "source": [
    "### Membuat Fungsi"
   ]
  },
  {
   "cell_type": "markdown",
   "metadata": {},
   "source": [
    "Python mengizinkan untuk mendeklarasikan fungsi dalam kode yang dituliskan yang dikenal dengan user defined function."
   ]
  },
  {
   "cell_type": "raw",
   "metadata": {},
   "source": [
    "def nama_fungsi(argument):\n",
    "    pernyataan_1\n",
    "    ...\n",
    "    pernyataa_n\n",
    "    return nilai_keluaran"
   ]
  },
  {
   "cell_type": "code",
   "execution_count": 1,
   "metadata": {},
   "outputs": [],
   "source": [
    "#pendefinisian fungsi_kuadrat\n",
    "def fungsi_kuadrat(x):\n",
    "    hasil=x**2\n",
    "    return hasil"
   ]
  },
  {
   "cell_type": "code",
   "execution_count": 3,
   "metadata": {},
   "outputs": [],
   "source": [
    "#Alternatif pendefinisian fungsi_kuadrat\n",
    "def fungsi_kuadrat(x):\n",
    "    return x**2"
   ]
  },
  {
   "cell_type": "code",
   "execution_count": 4,
   "metadata": {},
   "outputs": [
    {
     "data": {
      "text/plain": [
       "36"
      ]
     },
     "execution_count": 4,
     "metadata": {},
     "output_type": "execute_result"
    }
   ],
   "source": [
    "fungsi_kuadrat(6)"
   ]
  },
  {
   "cell_type": "markdown",
   "metadata": {},
   "source": [
    "### Positional Argument & Keyword"
   ]
  },
  {
   "cell_type": "markdown",
   "metadata": {},
   "source": [
    "Kita bisa menyatakan argumen sebagai positional argument atau keyword. Beberapa manfaat argumen kata kunci dapat berupa:\n",
    "- Kita dapat menyebut argumen dengan nama mereka untuk memperjelas apa yang mereka wakili\n",
    "- kita dapat mengatur ulang argumen dengan cara yang membuatnya paling mudah dibaca"
   ]
  },
  {
   "cell_type": "code",
   "execution_count": 7,
   "metadata": {},
   "outputs": [],
   "source": [
    "# Mendefinisikan fungsi dengan beberapa argumen\n",
    "def tampilkan_kata(a,b,c):\n",
    "    print(a,b,c)"
   ]
  },
  {
   "cell_type": "code",
   "execution_count": 8,
   "metadata": {},
   "outputs": [
    {
     "name": "stdout",
     "output_type": "stream",
     "text": [
      "aku kau dia\n"
     ]
    }
   ],
   "source": [
    "# Positional Arguments\n",
    "tampilkan_kata('aku', 'kau', 'dia')"
   ]
  },
  {
   "cell_type": "code",
   "execution_count": 9,
   "metadata": {},
   "outputs": [
    {
     "name": "stdout",
     "output_type": "stream",
     "text": [
      "kau aku dia\n"
     ]
    }
   ],
   "source": [
    "tampilkan_kata('kau','aku','dia')"
   ]
  },
  {
   "cell_type": "code",
   "execution_count": 11,
   "metadata": {},
   "outputs": [
    {
     "name": "stdout",
     "output_type": "stream",
     "text": [
      "aku kau dia\n",
      "aku kau dia\n"
     ]
    }
   ],
   "source": [
    "# argumen berdasarkan keyword-nya\n",
    "tampilkan_kata(a='aku', b='kau', c='dia')\n",
    "tampilkan_kata(c='dia', b='kau', a='aku')"
   ]
  },
  {
   "cell_type": "markdown",
   "metadata": {},
   "source": [
    "Catatan: jika sudah diberi kunci maka urutan tidak menjadi penting"
   ]
  },
  {
   "cell_type": "code",
   "execution_count": 12,
   "metadata": {},
   "outputs": [
    {
     "name": "stdout",
     "output_type": "stream",
     "text": [
      "aku kau dia\n"
     ]
    }
   ],
   "source": [
    "# campuran antara argumen posisi dan argumen kata kunci\n",
    "tampilkan_kata('aku',b='kau', c='dia')"
   ]
  },
  {
   "cell_type": "raw",
   "metadata": {},
   "source": [
    "ini tidak diijinkan\n",
    "- Positional argument setelah keyword argument\n",
    "  tampilkan_kata('aku',b='kau','dia')\n",
    "- Terdapat dua nilai untuk satu keyword argument yag sama\n",
    "  tampilkan_kata(1, b=2, a=3)"
   ]
  },
  {
   "cell_type": "markdown",
   "metadata": {},
   "source": [
    "### Argumen Default"
   ]
  },
  {
   "cell_type": "markdown",
   "metadata": {},
   "source": [
    "Fungsi dapat memiliki argumen default dengan nilai yang telah ditentukan sebelumnya. Argumen ini dapat ditinggalkan dan nilai default kemudia diteruskan ke fungsi, atau argumen dapat dirubah dengan nilai yang berbeda. Perhatikan bahwa argumen default harus ditentukan sebagai parameter terakhir dalam suatu fungsi."
   ]
  },
  {
   "cell_type": "code",
   "execution_count": 13,
   "metadata": {},
   "outputs": [
    {
     "name": "stdout",
     "output_type": "stream",
     "text": [
      "aku kau dia\n",
      "aku kau dia teman\n"
     ]
    }
   ],
   "source": [
    "# Argument default\n",
    "def tampilan_kata(a,b,c,d='sahabat'):\n",
    "    print(a,b,c,d)\n",
    "    \n",
    "tampilkan_kata('aku','kau','dia')\n",
    "tampilan_kata('aku',b='kau',c='dia',d='teman')"
   ]
  },
  {
   "cell_type": "markdown",
   "metadata": {},
   "source": [
    "Catatan : Argumen default harus diletakkan terakhir"
   ]
  },
  {
   "cell_type": "markdown",
   "metadata": {},
   "source": [
    "### Contoh User Defined Function"
   ]
  },
  {
   "cell_type": "markdown",
   "metadata": {},
   "source": [
    "#### Contoh 1:"
   ]
  },
  {
   "cell_type": "markdown",
   "metadata": {},
   "source": [
    "Penjumlahan 2 bilangan"
   ]
  },
  {
   "cell_type": "code",
   "execution_count": 14,
   "metadata": {},
   "outputs": [
    {
     "data": {
      "text/plain": [
       "3"
      ]
     },
     "execution_count": 14,
     "metadata": {},
     "output_type": "execute_result"
    }
   ],
   "source": [
    "def penjumlahan(x,y):   #input\n",
    "    a=x+y               #proses\n",
    "    return a            #output\n",
    "\n",
    "penjumlahan(1,2)        #pemanggil fungsi"
   ]
  },
  {
   "cell_type": "markdown",
   "metadata": {},
   "source": [
    "#### Contoh 2:"
   ]
  },
  {
   "cell_type": "markdown",
   "metadata": {},
   "source": [
    "Penjumlahan yang memungkinkan untuk tiga bilangan"
   ]
  },
  {
   "cell_type": "code",
   "execution_count": 17,
   "metadata": {},
   "outputs": [
    {
     "name": "stdout",
     "output_type": "stream",
     "text": [
      "3\n",
      "6\n"
     ]
    }
   ],
   "source": [
    "def penjumlahan(x,y,z=None):\n",
    "    if(z==None):\n",
    "        return x+y\n",
    "    else:\n",
    "        return x+y+z\n",
    "\n",
    "print(penjumlahan(1,2))\n",
    "print(penjumlahan(1,2,3))"
   ]
  },
  {
   "cell_type": "markdown",
   "metadata": {},
   "source": [
    "#### Contoh 3:"
   ]
  },
  {
   "cell_type": "markdown",
   "metadata": {},
   "source": [
    "Menghitung luas dan keliling dan persegi"
   ]
  },
  {
   "cell_type": "code",
   "execution_count": 19,
   "metadata": {},
   "outputs": [
    {
     "name": "stdout",
     "output_type": "stream",
     "text": [
      "luas: 4\n",
      "keliling: 8\n"
     ]
    }
   ],
   "source": [
    "def luas_dan_keliling_persegi(s):\n",
    "    luas = s**2\n",
    "    keliling =4*s\n",
    "    return luas,keliling\n",
    "\n",
    "luas, keliling = luas_dan_keliling_persegi(2)\n",
    "print('luas:', luas)\n",
    "print('keliling:', keliling)"
   ]
  },
  {
   "cell_type": "markdown",
   "metadata": {},
   "source": [
    "### Latihan"
   ]
  },
  {
   "cell_type": "markdown",
   "metadata": {},
   "source": [
    "1. Buatlah sebuah fungsi untuk menghitung luas dan keliling lingkaran dengan input jari-jari!"
   ]
  },
  {
   "cell_type": "code",
   "execution_count": 69,
   "metadata": {},
   "outputs": [
    {
     "name": "stdout",
     "output_type": "stream",
     "text": [
      "luas: 31400.0\n",
      "keliling: 628.0\n"
     ]
    }
   ],
   "source": [
    "def luas_dan_keliling_lingkaran(r):\n",
    "    luas = 3.14*r*r\n",
    "    keliling = 2*3.14*r\n",
    "    return luas,keliling\n",
    "\n",
    "luas, keliling = luas_dan_keliling_lingkaran(100)\n",
    "print('luas:', luas)\n",
    "print('keliling:', keliling)"
   ]
  },
  {
   "cell_type": "markdown",
   "metadata": {},
   "source": [
    "2. Buatlah sebuah fungsi untuk menggabungkan dua kata dalam bentuk string bebas menjadi satu kata tanpa spasi dengan huruf kecil"
   ]
  },
  {
   "cell_type": "code",
   "execution_count": 70,
   "metadata": {},
   "outputs": [
    {
     "name": "stdout",
     "output_type": "stream",
     "text": [
      "tangkubanperahu\n"
     ]
    }
   ],
   "source": [
    "kata1 = 'TANGKUBAN'\n",
    "kata2 = 'PeRaHu'\n",
    "\n",
    "print(f'{kata1}{kata2}'.lower())"
   ]
  },
  {
   "cell_type": "markdown",
   "metadata": {},
   "source": [
    "3. Buatlah sebuah fungsi awal_akhir(list_input) untuk menukar elemen pertama pada sebuah list dengan elemen terakhir pada list yang sama!"
   ]
  },
  {
   "cell_type": "code",
   "execution_count": 71,
   "metadata": {},
   "outputs": [
    {
     "name": "stdout",
     "output_type": "stream",
     "text": [
      "[4, 2, 3, 1]\n"
     ]
    }
   ],
   "source": [
    "list_input = [1,2,3,4]\n",
    "\n",
    "# ubah data pertama\n",
    "list_input[0] = 4\n",
    "\n",
    "# ubah data terakhir\n",
    "list_input[-1] = 1\n",
    "\n",
    "print(list_input)"
   ]
  }
 ],
 "metadata": {
  "kernelspec": {
   "display_name": "Python 3",
   "language": "python",
   "name": "python3"
  },
  "language_info": {
   "codemirror_mode": {
    "name": "ipython",
    "version": 3
   },
   "file_extension": ".py",
   "mimetype": "text/x-python",
   "name": "python",
   "nbconvert_exporter": "python",
   "pygments_lexer": "ipython3",
   "version": "3.7.6"
  }
 },
 "nbformat": 4,
 "nbformat_minor": 4
}
