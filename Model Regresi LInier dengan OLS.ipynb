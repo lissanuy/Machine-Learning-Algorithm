{
  "nbformat": 4,
  "nbformat_minor": 0,
  "metadata": {
    "colab": {
      "name": "Untitled1.ipynb",
      "provenance": [],
      "collapsed_sections": []
    },
    "kernelspec": {
      "name": "python3",
      "display_name": "Python 3"
    },
    "language_info": {
      "name": "python"
    }
  },
  "cells": [
    {
      "cell_type": "markdown",
      "metadata": {
        "id": "LjspzWG2hqn7"
      },
      "source": [
        "#**Model Regresi Linier Sederhana**\n",
        "\n",
        "Regresi linier adalah metode untuk mendefinisikan hubungan linier antara variabel dependen **Y** dan variabel independen **X**. Secara sederhana dapat dituliskan dalam formula berikut:\n",
        "\n",
        "\n",
        " $Y_i = b_0 +b_1X_i + ϵ_i $\n",
        "\n",
        "Yang mana $Y_i$ adalah variabel dependen, $X_i$ adalah variabel independen ,ϵ adalah kesalahan acak, $b_0$ disebut sebagai intercept dan $b_1$ disebut sebagai koefisien regresi yang dapat diestimasi berdasarkan data $Y_i$ dan $X_i$ yang diberikan, Koefisien $b_0$ juga biasa disebut sebagai bias, tujuan utama dari model ini adalah untuk mengambarkan garis linier dengan kesesuain terbaik (best fit) antara X dan Y yang mengestimasi hubungan antara X dan Y.\n",
        "\n",
        "Lalu bagaimana untuk mengestimasi koefisien tersebut? Salah satu pendekatan yang dapat dilakukan adalah menggunakan metode **Ordinary Least Mean Square Method**. Pada python notebook ini, kita akan mengimplementasikan metode Oridinary Least Mean Square Method"
      ]
    },
    {
      "cell_type": "markdown",
      "metadata": {
        "id": "7idWT0zzUC5e"
      },
      "source": [
        "#**Ordinary Least Mean Square**\n",
        "\n",
        "Garis merah pada grafik adalah hubungan sesungguhnya yang ingin disetimasi. Kita berusaha untuk meminimalkan kesalahan model yang kita bangun. Garis ini adalah garis yang paling tepat menggambarkan hubungan antar X dan Y dengan melewati sebgaian besar titik data dan memiliki keslahan yang paling minimal. Kesalahan ini berupa jarak titik data ke garis estimasi model ini. Secara kesalahan ini diilustrasikan pada gambar di bawah ini."
      ]
    },
    {
      "cell_type": "markdown",
      "metadata": {
        "id": "sFpAxd7dVLi7"
      },
      "source": [
        "Dan kesalahan total model linier adalah jumlah kesalahan dari setiap titikya, yaitu:\n",
        "\n",
        "$\\sum \\limits _{i=1}^{n}{{\\epsilon}_{i}}^2 $\n",
        "\n",
        "$\\epsilon_{i}$ = Jarak antara garis ke titik data ke-i\n",
        "n= jumlah total titik data\n",
        "\n",
        "Formula di atas diperoleh dari:\n",
        "\n",
        "$y_i=b_0+b_1.x_i+_i$\n",
        "\n",
        "$\\epsilon_{i}= y_i-b_0-b_1.x_i$\n",
        "\n",
        "$\\sum \\limits_{i=1}^{n} {{\\epsilon}_{i}}^2 = \\sum\\limits_{i=1}^{n} (y_i-b_0-b_1.x_i)^2$\n",
        "\n",
        "Pada baris terkahir persamaan di atas kita **mengkuadratkan kesalahan yang berupa jarak antara garis estimasi dengan titik data**. Kita dapat mengkuadratkan masing-masing jarak karena terdapat beberapa titik di atas garis dan beberapa di bawahnya. Kemudian, untuk memperoleh model terbaik jarak tersebut dapat kita minimumkan. Misal $\\sum \\limits_{i=1}^{n} {{\\epsilon}_{i}}^2 = J$\n",
        "\n",
        "Ide dasar Metode OLS : **Nilai minimum dari fungsi kesalahan $\\sum \\limits_{i=1}^{n} {{\\epsilon}_{i}}^2 $ terjadi saat turunan pertama terhadap koefisien $b_0$ dan $b_1$ sama dengan 0.Ini merujuk pada konsep dasar turunan fungsi dalam kalkulus yaitu nilai minimum suatu fungsi terjadi saat turunan pertamanya sama dengan 0.**\n",
        "\n",
        "konsep ini kemudian diperluas menjadi metode Gradient Descent.\n",
        "\n",
        "**Mencari nilai minimum untuk $b_0$** \n",
        "\n",
        "$J= \\sum\\limits_{i=1}^{n} (y_i-b_0-b_1.x_i)^2$\n",
        "\n",
        "$\\frac{\\partial{J}} {\\partial{b_0}} = 2 \\sum\\limits_{i=1}^{n}(y_i-b_0-b_1.x_i)^{2-1}. (-1)$\n",
        "\n",
        "$\\frac{\\partial{J}} {\\partial{b_0}} = -2 \\sum\\limits_{i=1}^{n}(y_i-b_0-b_1.x_i)$\n",
        "\n",
        "$\\frac{\\partial{J}} {\\partial{b_0}} = 0$\n",
        "\n",
        "$\\sum\\limits_{i=1}^{n} (y_i-\\hat{b_0}-\\hat{b_1}.x_i)=0$\n",
        "\n",
        "$\\sum\\limits_{i=1}^{n} y_i-\\hat{nb_0}-\\hat{b_1} \\sum\\limits_{i=1}^{n}x_i=0$\n",
        "\n",
        "$\\hat{nb_0} = \\sum\\limits_{i=1}^{n} y_i-\\hat{b_1}\\sum\\limits_{i=1}^{n}x_i$\n",
        "\n",
        "$\\hat{b_0} = \\frac {\\sum\\limits_{i=1}^{n} y_i-\\hat{b_1}\\sum\\limits_{i=1}^{n}x_i}{n}$\n",
        "\n",
        "\n",
        "$\\hat{b_0} =\\bar{y}-\\hat{b_1}\\bar{x} $\n",
        "\n",
        "Sehingga diperoleh formula untuk $b_0$ adalah\n",
        "\n",
        "\n",
        "$\\hat{b_0} =\\bar{y}-\\hat{b_1}\\bar{x} $\n",
        "\n",
        "\n",
        "\n"
      ]
    },
    {
      "cell_type": "markdown",
      "metadata": {
        "id": "NjQD9s5zXGz1"
      },
      "source": [
        "**Mencari nilai minimum untuk $b_1$**\n",
        "\n",
        "$J= \\sum\\limits_{i=1}^{n} (y_i-b_0-b_1.x_i)^2$\n",
        "\n",
        "$\\frac{\\partial{J}} {\\partial{b_i}} = 2 \\sum\\limits_{i=1}^{n}(y_i-b_0-b_1.x_i)^{2-1}. (-x_i)$\n",
        "\n",
        "$\\frac{\\partial{J}} {\\partial{b_i}} = -2 \\sum\\limits_{i=1}^{n}(x_i.y_i-b_0.x_i-b_1.{x_i}^2)$\n",
        "\n",
        "$\\frac{\\partial{J}} {\\partial{b_i}} = 0$\n",
        "\n",
        "$\\sum\\limits_{i=1}^{n} x_i.y_i-\\hat{b_0}\\sum\\limits_{i=1}^{n}x_i-\\hat{b_1} \\sum\\limits_{i=1}^{n}{x_i}^2=0$\n",
        "\n",
        "$\\sum\\limits_{i=1}^{n} x_i.y_i- (\\frac{\\sum\\limits_{i=1}^{n} y_i- \\hat{b_1} \\sum\\limits_{i=1}^{n}x_i}{n}) \\sum\\limits_{i=1}^{n}x_i- \\hat{b_1} \\sum\\limits_{i=1}^{n}{x_i}^2=0$\n",
        "\n",
        "\n",
        "$\\sum\\limits_{i=1}^{n} x_i.y_i- \\frac {\\sum\\limits_{i=1}^{n}x_i \\sum\\limits_{i=1}^{n} y_i}{n} + \\hat{b_1} \\frac{(\\sum\\limits_{i=1}^{n} x_i)^2}{n} - \\hat{b_1} \\sum\\limits_{i=1}^{n}{x_i}^2=0$\n",
        "\n",
        "\n",
        "$\\hat{b_1} (\\frac {(\\sum\\limits_{i=1}^{n}x_i)^2}{n}- \\sum\\limits_{i=1}^{n}{x_1}^2) = \\frac {\\sum\\limits_{i=1}^{n}x_i \\sum\\limits_{i=1}^{n} y_i}{n}- \\sum\\limits_{i=1}^{n} x_i.y_i $\n",
        "\n",
        "\n",
        "$\\hat{b_1} = \\frac {\\sum\\limits_{i=1}^{n} x_i.y_i-  \\frac {\\sum\\limits_{i=1}^{n}x_i \\sum\\limits_{i=1}^{n} y_i}{n}}  \n",
        "{\\sum\\limits_{i=1}^{n}{x_i}^2-\\frac{\\sum\\limits_{i=1}^{n}x_i)^2}{n}}$\n",
        "\n",
        "\n",
        "\n"
      ]
    },
    {
      "cell_type": "markdown",
      "metadata": {
        "id": "6ZJMBwA9BFt8"
      },
      "source": [
        "Sehingga diperoleh formula untuk $b_1$ adalah\n",
        "\n",
        "$\\hat{b_1} = \\frac {\\sum\\limits_{i=1}^{n} x_i.y_i-  \\frac {\\sum\\limits_{i=1}^{n}x_i \\sum\\limits_{i=1}^{n} y_i}{n}}  \n",
        "{\\sum\\limits_{i=1}^{n}{x_i}^2-\\frac{\\sum\\limits_{i=1}^{n}x_i)^2}{n}}$\n",
        "\n",
        "Persamaan terakhir bisa ditulis ulang untuk kemudahan pemrograman sebagai berikut:\n",
        "\n",
        "$\\hat{b_1} \\frac{\\sum\\limits_{i=1}^{n} (x_i-\\bar{x})(y_i-\\bar{y})}{\\sum\\limits_{i=1}^{n} (x_i-\\bar{x})^2}$\n",
        "\n",
        "Setelah mendapatkan keduanya, kita dapat mulai melakukan implementasi pada python."
      ]
    },
    {
      "cell_type": "markdown",
      "metadata": {
        "id": "0jFgA3OebMNh"
      },
      "source": [
        "# **Contoh Perhitungan Manual Regresi Linier dengan OLS**\n",
        "\n",
        "Diketahui data X dan Y adalah sebagai berikut (Y= 2X-1):\n",
        "\n",
        "X  |Y\n",
        "---|---\n",
        "1  |1\n",
        "3  |5\n",
        "5  |9\n",
        "6  |11\n",
        "7  |13\n",
        "8  |15\n",
        "\n",
        "Berikut adalah prose menghitung model Regresi Linier dari data di atas:"
      ]
    },
    {
      "cell_type": "markdown",
      "metadata": {
        "id": "5f_EU0_vcVSs"
      },
      "source": [
        "**1. Menghitung rata-rata X dan Y**\n",
        "\n",
        "$n=6$\n",
        "\n",
        "$\\bar{x}=\\frac {1+3+5+6+7+8}{6}= \\frac{30}{6} = 5$\n",
        "\n",
        "$\\bar{y}=\\frac {1+5+9+11+13+15}{6}= \\frac{54}{6} = 9$\n"
      ]
    },
    {
      "cell_type": "markdown",
      "metadata": {
        "id": "qTU4pJi0dGiU"
      },
      "source": [
        "**2. Menghitung $b_1$**\n",
        "\n",
        "$\\hat{b_1} =\\frac{\\sum\\limits_{i=1}^{n}(x_i-\\bar{x})(y_i - \\bar{y})}{\\sum\\limits_{i=1}^{n}(x_i-\\bar{x)}}$\n",
        "\n",
        "$\\hat{b_1}= \\frac {([1-5][1-9]+[3-5][5-9]+[5-5][9-9]+[6-5][11-9]+[7-5][13-9]+[8-5])}{([1-5]^2 +[3-5]^2 +[5-5]^2 +[6-5]^2 +[7-5]^2 +[8-5]^2)} $\n",
        "\n",
        "$\\hat{b_1}= \\frac {((-4)(-8)+(-2)(-4)+(0)(0)+(1)(2)+(2)(4)+(3)(6))} {((-4)^2+(-2)^2+0^2+1^2+2^2+3^2)}$\n",
        "\n",
        "$\\hat{b_1}= \\frac {32+8+0+2+8+18}{16+4+0+1+4+9}$\n",
        "\n",
        "$\\hat{b_1}= \\frac {68}{34}$\n",
        "\n",
        "$\\hat{b_1}=2$\n",
        "\n",
        "\n"
      ]
    },
    {
      "cell_type": "markdown",
      "metadata": {
        "id": "U8hKY4nagdOa"
      },
      "source": [
        "**3. Menghitung $b_0$**\n",
        "\n",
        "$\\hat{b_0} = \\bar{y} -\\hat{b_i}\\bar{x}$\n",
        "\n",
        "$\\hat{b_0} = 9-(2) x 5$\n",
        "\n",
        "$\\hat{b_0}=-1$\n",
        "\n",
        "\n"
      ]
    },
    {
      "cell_type": "markdown",
      "metadata": {
        "id": "E4wp4_69hnvC"
      },
      "source": [
        "**4. Menyusun Persamaan Regresi Linier**\n",
        " \n",
        "$Y= \\hat{b_0} + \\hat{b_1} X$\n",
        "\n",
        "$Y =-1 +2X$"
      ]
    },
    {
      "cell_type": "markdown",
      "metadata": {
        "id": "H-jL8w4-XT1J"
      },
      "source": [
        "#**Regresi LInier Python From Scratch**\n",
        "\n",
        "**Membangun Model Regresi Linier**\n",
        "\n",
        "Pertama, import libraray python yang dibutuhkan yaitu:\n",
        "\n",
        "*   Numpy\n",
        "*   Pandas\n",
        "- Matplotlib"
      ]
    },
    {
      "cell_type": "code",
      "metadata": {
        "id": "W7cKSOc1XwQL"
      },
      "source": [
        "import numpy as np\n",
        "import pandas as pd\n",
        "import matplotlib.pyplot as plt\n",
        "from sklearn.model_selection import train_test_split\n",
        "%matplotlib inline"
      ],
      "execution_count": 3,
      "outputs": []
    },
    {
      "cell_type": "markdown",
      "metadata": {
        "id": "IHP-dQopYDY-"
      },
      "source": [
        "Untuk memahami konsep, kita akan menggunakan data X dan Y seperti yang kita tunjukkan pada proses penghitungan manual."
      ]
    },
    {
      "cell_type": "code",
      "metadata": {
        "id": "Ig3_EXzIYOPd"
      },
      "source": [
        "x_train=np.array([1,3,5,6,7,8])\n",
        "y_train=np.array([1,5,9,11,13,15])"
      ],
      "execution_count": null,
      "outputs": []
    },
    {
      "cell_type": "code",
      "metadata": {
        "colab": {
          "base_uri": "https://localhost:8080/"
        },
        "id": "CpHy33CmYcrW",
        "outputId": "e81f974d-651d-4d50-c6eb-ec0d223a51cd"
      },
      "source": [
        "# Prose Training Model\n",
        "\n",
        "# Menghitung rata-rata inputs and outputs\n",
        "x_rata2=np.mean(x_train)\n",
        "print(\"Rata-rata X:\", x_rata2)\n",
        "y_rata2=np.mean(y_train)\n",
        "print(\"Rata-rata Y:\", y_train)\n",
        "\n",
        "# Jumlah data\n",
        "n=len(x_train)\n",
        "print(\"Jumlah data(n):\", y_rata2)\n",
        "\n",
        "# Menuliskan formula untuk menghitung beta 0 dan beta 1\n",
        "A = 0\n",
        "B = 0\n",
        "for i in range(n):\n",
        "  a= (x_train[i]-x_rata2)* (y_train[i]-y_rata2)\n",
        "  print(\"(\",x_train[i], \"-\",x_rata2,\")\", \"*\", \"(\",y_train[i],\"-\", y_rata2, \")=\",a)\n",
        "  A += a\n",
        "  b = (x_train[i] -x_rata2) **2\n",
        "  print(\"(\", x_train[i], \"-\", x_rata2, \")\",\"^2\", \"=\", b)\n",
        "  B += b\n",
        "\n",
        "print(\"Pembilang =\", A)\n",
        "print(\"Penyebut =\", B)\n",
        "\n",
        "# Menampilkan koefisien Regresi Linier\n",
        "b_1 = A/B\n",
        "print(\"b_1 =\", b_1)\n",
        "b_0= y_rata2 - (b_1* x_rata2)\n",
        "print(\"b_0 =\", b_0)\n"
      ],
      "execution_count": null,
      "outputs": [
        {
          "output_type": "stream",
          "name": "stdout",
          "text": [
            "Rata-rata X: 5.0\n",
            "Rata-rata Y: [ 1  5  9 11 13 15]\n",
            "Jumlah data(n): 9.0\n",
            "( 1 - 5.0 ) * ( 1 - 9.0 )= 32.0\n",
            "( 1 - 5.0 ) ^2 = 16.0\n",
            "( 3 - 5.0 ) * ( 5 - 9.0 )= 8.0\n",
            "( 3 - 5.0 ) ^2 = 4.0\n",
            "( 5 - 5.0 ) * ( 9 - 9.0 )= 0.0\n",
            "( 5 - 5.0 ) ^2 = 0.0\n",
            "( 6 - 5.0 ) * ( 11 - 9.0 )= 2.0\n",
            "( 6 - 5.0 ) ^2 = 1.0\n",
            "( 7 - 5.0 ) * ( 13 - 9.0 )= 8.0\n",
            "( 7 - 5.0 ) ^2 = 4.0\n",
            "( 8 - 5.0 ) * ( 15 - 9.0 )= 18.0\n",
            "( 8 - 5.0 ) ^2 = 9.0\n",
            "Pembilang = 68.0\n",
            "Penyebut = 34.0\n",
            "b_1 = 2.0\n",
            "b_0 = -1.0\n"
          ]
        }
      ]
    },
    {
      "cell_type": "code",
      "metadata": {
        "colab": {
          "base_uri": "https://localhost:8080/",
          "height": 279
        },
        "id": "nS_uLMF1bzpy",
        "outputId": "ce4b722d-ac00-4447-e559-1d89f756ce45"
      },
      "source": [
        "# Plot Nilai Data\n",
        "x_max = np.max(x_train)\n",
        "x_min = np.min(x_train)\n",
        "\n",
        "# Garis Regresi\n",
        "x = np.linspace (x_min, x_max, 1000)\n",
        "y = b_0 +b_1*x\n",
        "\n",
        "# Plot Garis Regresi\n",
        "plt.plot(x,y, color='red', label='Regresi Linier')\n",
        "\n",
        "#Plot Titik DAta\n",
        "plt.scatter (x_train, y_train, color='blue' , label='Data')\n",
        "\n",
        "# Label sumbu x\n",
        "plt.xlabel('X')\n",
        "\n",
        "# Label sumbu Y\n",
        "plt.ylabel('Y')\n",
        "\n",
        "# Menampilkan Legenda\n",
        "plt.legend()\n",
        "\n",
        "#Menampilkan Gambar Hasil Plot\n",
        "plt.show()\n"
      ],
      "execution_count": null,
      "outputs": [
        {
          "output_type": "display_data",
          "data": {
            "image/png": "[encoded data removed]",
            "text/plain": [
              "<Figure size 432x288 with 1 Axes>"
            ]
          },
          "metadata": {
            "needs_background": "light"
          }
        }
      ]
    },
    {
      "cell_type": "markdown",
      "metadata": {
        "id": "66iUSZOUL4Co"
      },
      "source": [
        "# **Implementasi Model Regresi Linier pada Data Real**\n",
        "\n",
        "Kita akan menggunakan dataset yang berisi **tahun bekerja** dan **gaji**\n",
        "\n"
      ]
    },
    {
      "cell_type": "code",
      "metadata": {
        "colab": {
          "base_uri": "https://localhost:8080/",
          "height": 222
        },
        "id": "L7SaqGYHeCBc",
        "outputId": "42e63025-94c8-45bd-9738-1645c4328fef"
      },
      "source": [
        "dataset = pd.read_csv('https://raw.githubusercontent.com/lissanuy/Machine-Learning-Algorithm/main/Daftar_gaji.csv')\n",
        "# Melihat ukuran dataset\n",
        "print(dataset.shape)\n",
        "# Menampilkan 5 data teratas\n",
        "dataset.head()"
      ],
      "execution_count": 4,
      "outputs": [
        {
          "output_type": "stream",
          "name": "stdout",
          "text": [
            "(30, 2)\n"
          ]
        },
        {
          "output_type": "execute_result",
          "data": {
            "text/html": [
              "<div>\n",
              "<style scoped>\n",
              "    .dataframe tbody tr th:only-of-type {\n",
              "        vertical-align: middle;\n",
              "    }\n",
              "\n",
              "    .dataframe tbody tr th {\n",
              "        vertical-align: top;\n",
              "    }\n",
              "\n",
              "    .dataframe thead th {\n",
              "        text-align: right;\n",
              "    }\n",
              "</style>\n",
              "<table border=\"1\" class=\"dataframe\">\n",
              "  <thead>\n",
              "    <tr style=\"text-align: right;\">\n",
              "      <th></th>\n",
              "      <th>Tahun_bekerja</th>\n",
              "      <th>Gaji</th>\n",
              "    </tr>\n",
              "  </thead>\n",
              "  <tbody>\n",
              "    <tr>\n",
              "      <th>0</th>\n",
              "      <td>1.1</td>\n",
              "      <td>39343</td>\n",
              "    </tr>\n",
              "    <tr>\n",
              "      <th>1</th>\n",
              "      <td>1.3</td>\n",
              "      <td>46205</td>\n",
              "    </tr>\n",
              "    <tr>\n",
              "      <th>2</th>\n",
              "      <td>1.5</td>\n",
              "      <td>37731</td>\n",
              "    </tr>\n",
              "    <tr>\n",
              "      <th>3</th>\n",
              "      <td>2.0</td>\n",
              "      <td>43525</td>\n",
              "    </tr>\n",
              "    <tr>\n",
              "      <th>4</th>\n",
              "      <td>2.2</td>\n",
              "      <td>39891</td>\n",
              "    </tr>\n",
              "  </tbody>\n",
              "</table>\n",
              "</div>"
            ],
            "text/plain": [
              "   Tahun_bekerja   Gaji\n",
              "0            1.1  39343\n",
              "1            1.3  46205\n",
              "2            1.5  37731\n",
              "3            2.0  43525\n",
              "4            2.2  39891"
            ]
          },
          "metadata": {},
          "execution_count": 4
        }
      ]
    },
    {
      "cell_type": "code",
      "metadata": {
        "id": "yHSUhjagNOvO"
      },
      "source": [
        "# Definisikan Variabel Input(X) dan Output(Y)\n",
        "X = dataset['Tahun_bekerja'].values.reshape(-1,1)\n",
        "Y = dataset['Gaji'].values.reshape(-1,1)"
      ],
      "execution_count": 5,
      "outputs": []
    },
    {
      "cell_type": "code",
      "metadata": {
        "id": "-jgibJxrNR0V"
      },
      "source": [
        "# Membagi data menjadi data training dan data testing\n",
        "X_train, X_test, y_train, y_test = train_test_split(X, Y, test_size=0.2, random_state=0)"
      ],
      "execution_count": 6,
      "outputs": []
    },
    {
      "cell_type": "code",
      "metadata": {
        "colab": {
          "base_uri": "https://localhost:8080/"
        },
        "id": "xZLrPkmDNWlL",
        "outputId": "5fd2f81f-7399-42e7-cc97-912a58ed9275"
      },
      "source": [
        "# Proses Training Model\n",
        "\n",
        "# Menghitung rata-rata inputs and outputs\n",
        "x_rata2 = np.mean(X_train)\n",
        "y_rata2 = np.mean(y_train)\n",
        "\n",
        "# Jumlah data \n",
        "n = len(X_train)\n",
        "\n",
        "# Menuliskan formula untuk menghitung beta 0 dan beta 1\n",
        "A = 0\n",
        "B = 0\n",
        "for i in range(n):\n",
        "    A += (X_train[i] - x_rata2) * (y_train[i] - y_rata2)\n",
        "    B += (X_train[i] - x_rata2) ** 2\n",
        "    \n",
        "b_1 = A / B\n",
        "b_0 = y_rata2 - (b_1 * x_rata2)\n",
        "\n",
        "# Menampilkan Koefisien Regresi Linear\n",
        "print(b_0, b_1)"
      ],
      "execution_count": 7,
      "outputs": [
        {
          "output_type": "stream",
          "name": "stdout",
          "text": [
            "[26780.09915063] [9312.57512673]\n"
          ]
        }
      ]
    },
    {
      "cell_type": "markdown",
      "metadata": {
        "id": "GQwEzfnQTN6M"
      },
      "source": [
        "Dalam notasi matematika, hasil ini dapat ditulis sebagai berikut:\n",
        "\n",
        "\n",
        "```\n",
        "Gaji= 268780,009915063 + 9312,57512673 * tahun bekerja\n",
        "```\n",
        "Sekarang kita memiliki model linier. Mari kita plot secara grafis.\n"
      ]
    },
    {
      "cell_type": "code",
      "metadata": {
        "colab": {
          "base_uri": "https://localhost:8080/",
          "height": 297
        },
        "id": "ZkctwD-iNp-z",
        "outputId": "8635afc2-0127-4776-b859-a3d4eabc24a6"
      },
      "source": [
        "# Plot Nilai Data\n",
        "x_max = np.max(X)\n",
        "x_min = np.min(X) \n",
        "\n",
        "# Garis Regresi\n",
        "x = np.linspace(x_min, x_max,1000)\n",
        "y = b_0 + b_1 * x\n",
        "\n",
        "# Plott Garis Regresi \n",
        "plt.plot(x, y, color='red', label='Regresi Linear')\n",
        "\n",
        "# Plot Titik Data\n",
        "plt.scatter(X, Y, color='blue', label='Data')\n",
        "\n",
        "# Label sumbu\n",
        "plt.xlabel('Tahun Bekerja')\n",
        "\n",
        "# Label sumbu y\n",
        "plt.ylabel('Gaji')\n",
        "\n",
        "# Menampilkan Legenda\n",
        "plt.legend()"
      ],
      "execution_count": 14,
      "outputs": [
        {
          "output_type": "execute_result",
          "data": {
            "text/plain": [
              "<matplotlib.legend.Legend at 0x7faa619dce90>"
            ]
          },
          "metadata": {},
          "execution_count": 14
        },
        {
          "output_type": "display_data",
          "data": {
            "image/png": "[encoded data removed]",
            "text/plain": [
              "<Figure size 432x288 with 1 Axes>"
            ]
          },
          "metadata": {
            "needs_background": "light"
          }
        }
      ]
    },
    {
      "cell_type": "markdown",
      "metadata": {
        "id": "AVG9KhnHT0u4"
      },
      "source": [
        "### Evaluasi Model\n",
        "\n",
        "Kita perlu mengukur tingkat ketepatan (akurasi) model yang telah diperoleh. Terdapat banyak metode untuk melakukan hal ini, namaun pada artikel ini kita memilih menggunakan  **Root Mean Square Error dan Koefisien Determinasi ($R^2$ skor)**\n",
        "\n",
        "$RMSE = \\sqrt{\\frac{1}{n} \\sum\\limits_{i=1}^{n} (y_i- \\hat{y_i})^2}$\n",
        "\n",
        "$\\hat{y_i}$ adalah nilai hasil prediksi ke-i. Berikut adalah penukisan kode untuk RMSE. "
      ]
    },
    {
      "cell_type": "code",
      "metadata": {
        "colab": {
          "base_uri": "https://localhost:8080/"
        },
        "id": "apfIW_KhXhY-",
        "outputId": "a05f1eb3-424a-41ba-a1d1-83bd76c564e7"
      },
      "source": [
        "rmse = 0\n",
        "for i in range(len(X_test)):\n",
        "  y_pred = b_0 +b_1* X_test[i]\n",
        "  rmse += (y_test[i]- y_pred) **2\n",
        "\n",
        "rmse = np.sqrt(rmse/n)\n",
        "print(rmse)"
      ],
      "execution_count": 15,
      "outputs": [
        {
          "output_type": "stream",
          "name": "stdout",
          "text": [
            "[1790.48961866]\n"
          ]
        }
      ]
    },
    {
      "cell_type": "markdown",
      "metadata": {
        "id": "rzqmQnpdX4yd"
      },
      "source": [
        "selanjutnya, mari kita hitung nilai $R^2$ skor untuk mengukur tingkat akurasi dair model linier yang diperoleh, secara metamatis $R^2$ dituliskan sebagai berikut:\n",
        "\n",
        "$ R^2 = 1- \\frac{SSE}{SST} = 1- \\frac {\\sum\\limits(\\hat{y_i}- \\bar{y})^2} {\\sum\\limits(y_i- \\bar{y})^2}$\n",
        "\n",
        "SSE adalah jumlah kuadrat galat sedangkan SST jumlah kuadrat total.\n",
        "\n",
        "$R^2$ skor biasanya memiliki nilai antara 0 hinga 1. Nilai ini juga bisa bernilai negatif jika model regresi benar-benar salah. Di bawah ini adlah kode pemrograman untuk menghitung $R^2$ skor.\n"
      ]
    },
    {
      "cell_type": "code",
      "metadata": {
        "colab": {
          "base_uri": "https://localhost:8080/"
        },
        "id": "fGfd3BbUZH-k",
        "outputId": "67253936-4ccb-4e70-f00d-a4308c407414"
      },
      "source": [
        "SST = 0\n",
        "SSE = 0\n",
        "y_pred= b_0 +b_1 * X_test\n",
        "y_rata2= np.mean (y_test)\n",
        "for i in range (len(X_test)) :\n",
        "  SST += (y_test[i]-y_rata2) **2\n",
        "  SSE += (y_test[i] - y_pred[i]) **2\n",
        "\n",
        "score = 1- (SSE/SST)\n",
        "print(\"Koefisien Determinasi :\", score)"
      ],
      "execution_count": 16,
      "outputs": [
        {
          "output_type": "stream",
          "name": "stdout",
          "text": [
            "Koefisien Determinasi : [0.98816952]\n"
          ]
        }
      ]
    }
  ]
}