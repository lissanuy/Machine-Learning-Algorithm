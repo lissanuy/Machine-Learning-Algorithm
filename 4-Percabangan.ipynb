{
 "cells": [
  {
   "cell_type": "markdown",
   "metadata": {},
   "source": [
    "## Percabangan/Struktur Pemilihan"
   ]
  },
  {
   "cell_type": "markdown",
   "metadata": {},
   "source": [
    "Pada bagian ini, kamu akan membuat keputusan pada bahasa pemrograman Python menggunakan struktur percabangan atau juga sering disebut IF ELSE Statement. Pengambilan keputusan dibutuhkan ketika kamu akan mengeksekusi sustu kode jika sebuah kondisi tertentu dipenuhi.\n",
    "\n",
    "Statemnt if ... elif... else digunakan pada bahasa Python untuk pengambilan keputusan."
   ]
  },
  {
   "cell_type": "markdown",
   "metadata": {},
   "source": [
    "## IF Statements"
   ]
  },
  {
   "cell_type": "markdown",
   "metadata": {},
   "source": [
    "### Python IF Statements Syntax"
   ]
  },
  {
   "cell_type": "code",
   "execution_count": null,
   "metadata": {},
   "outputs": [],
   "source": [
    "if test expression:\n",
    "    statement(s)"
   ]
  },
  {
   "cell_type": "markdown",
   "metadata": {},
   "source": [
    "Program akan mengevaluasi nilai dari test expression yang diberikan kemudian akan mengeksekusi statemnts(s) hanya jika test expression bernilai True.\n",
    "\n",
    "JIka test expression bernilai False, maka statements(s) tidak dieksekusi.\n",
    "\n",
    "Seperti telah disampaikan pada pertemuan sebelumnya bahwa bagian body dari statements if diindikasikan dengan identasi. Statement-statement yang akan dijalankan jika test expression bernilai true ditulis pada baris selanjutnya dan menjorok ke dalam.\n",
    "\n",
    "Sebagai catatan tambahan bahwa Python menginterpretasikan non-zero values sebgaia True-None dari 0 diinterpretasikan sebagai False. "
   ]
  },
  {
   "cell_type": "markdown",
   "metadata": {},
   "source": [
    "#### Example : Python IF  Statement"
   ]
  },
  {
   "cell_type": "code",
   "execution_count": 1,
   "metadata": {},
   "outputs": [
    {
     "name": "stdout",
     "output_type": "stream",
     "text": [
      "Bilangan Positif atau Nol\n"
     ]
    }
   ],
   "source": [
    "# Program disusun untuk mengecek apakah angka merupakan bilangan positif atau negatif\n",
    "# dan menampilkan tulisan yang sesuai\n",
    "\n",
    "angka=3\n",
    "\n",
    "# kamu bisa mencoba angkaangka lainnya berikut:\n",
    "# angka = -5\n",
    "# angka = 0\n",
    "\n",
    "if angka >= 0:\n",
    "    print(\"Bilangan Positif atau Nol\")\n",
    "else:\n",
    "    print(\"Bilangan Negatif\")"
   ]
  },
  {
   "cell_type": "markdown",
   "metadata": {},
   "source": [
    "PAda contoh diatas, ketika angka sama dengan 3, test expression bernilai true dan bagian body dari if dieksekusi sedangakan bagian body dari else diabaikan.\n",
    "\n",
    "Ketika angka sama dengan -5, test expresson bernilai False dan bagian body darri if diabaikan sdangkan bagian body dari else dieksekusi.\n",
    "\n",
    "Jika angka sama dengan 0, test expression bernilai True dan bagian Body dari if dieksekudi sedangkan bagian body dari else diabaikan."
   ]
  },
  {
   "cell_type": "code",
   "execution_count": 2,
   "metadata": {},
   "outputs": [
    {
     "name": "stdout",
     "output_type": "stream",
     "text": [
      "a dan b bernilai sama\n"
     ]
    }
   ],
   "source": [
    "# Program disusun untk mengecek apakah dua buah angka sama atau tidak\n",
    "# dan menampilkan tulisan yang sesuai\n",
    "\n",
    "a=5\n",
    "b=5\n",
    "\n",
    "if a==b:\n",
    "    print(\"a dan b bernilai sama\")\n",
    "else:\n",
    "    print(\"a dan b bernilai berbeda\")\n",
    "    print(\"Halo\")"
   ]
  },
  {
   "cell_type": "code",
   "execution_count": 7,
   "metadata": {},
   "outputs": [
    {
     "name": "stdout",
     "output_type": "stream",
     "text": [
      "Masukkan bilangan pertama:10\n",
      "Masukkan bilangan Kedua:10\n",
      "Bilangan yang lebih besar adalah: 10\n"
     ]
    }
   ],
   "source": [
    "# Program disusun untuk mengecek apakah perbandingan dua buah anga\n",
    "# dan menampilkan tulisan yang sesuai\n",
    "\n",
    "#Membaca dua angka\n",
    "bilangan1= int(input(\"Masukkan bilangan pertama:\"))\n",
    "bilangan2= int(input(\"Masukkan bilangan Kedua:\"))\n",
    "\n",
    "# Memilih bilangan yang lebih besar\n",
    "if bilangan1>bilangan2:\n",
    "    bilangan_lebih_besar = bilangan1\n",
    "else:\n",
    "    bilangan_lebih_besar = bilangan2\n",
    "    \n",
    "# Menampilkan hasil\n",
    "print(\"Bilangan yang lebih besar adalah:\", bilangan_lebih_besar)"
   ]
  },
  {
   "cell_type": "markdown",
   "metadata": {},
   "source": [
    "## IF ELIF ELSE Statements"
   ]
  },
  {
   "cell_type": "markdown",
   "metadata": {},
   "source": [
    "#### Python IF ELIF ELSE Statements Syntax"
   ]
  },
  {
   "cell_type": "code",
   "execution_count": null,
   "metadata": {},
   "outputs": [],
   "source": [
    "if test expression:\n",
    "    Body of if\n",
    "else:\n",
    "    Body of else"
   ]
  },
  {
   "cell_type": "markdown",
   "metadata": {},
   "source": [
    "elif adalah kependekan dari else if. Perintah ini bertugas untuk mengecek beberapa test expession.\n",
    "\n",
    "jika kondisi untuk statemnts if bernilai false, maka akan mengecek ke kondisi elif selanjutnya dan begitu seterusnya. Jika semua kondisi pada statements If dan elif bernilai false maka bagian body dai else akan dieksekusi."
   ]
  },
  {
   "cell_type": "markdown",
   "metadata": {},
   "source": [
    "#### Example : Python IF ELIF ELSE Statement "
   ]
  },
  {
   "cell_type": "code",
   "execution_count": 9,
   "metadata": {},
   "outputs": [
    {
     "name": "stdout",
     "output_type": "stream",
     "text": [
      "Bilangan Positif\n"
     ]
    }
   ],
   "source": [
    "# Program disusun untuk mengecek apakah angka merupakan bilangan positif, negatif, atau nol.\n",
    "# dan menampilkan tulisan yang sesuai\n",
    "\n",
    "angka= 3.4\n",
    "\n",
    "# kamu bisa mencoba angka-angka lainnya berikut:\n",
    "# angka=0\n",
    "# angka=-4.5\n",
    "\n",
    "if angka>0:\n",
    "    print(\"Bilangan Positif\")\n",
    "elif num==0:\n",
    "    print(\"Nol\")\n",
    "else:\n",
    "    print(\"Bilangan Negatif\")\n"
   ]
  },
  {
   "cell_type": "code",
   "execution_count": 11,
   "metadata": {},
   "outputs": [
    {
     "name": "stdout",
     "output_type": "stream",
     "text": [
      "x habis dibagi dua\n",
      "x tidak habis dibagi dua, tiga ataupun lima\n"
     ]
    }
   ],
   "source": [
    "# Statements if\n",
    "x=4\n",
    "if x%2 == 0: #jika sisa bagi x dengan 2 sama dengan 0\n",
    "    print(\"x habis dibagi dua\") #statemen aksi lebih menjorok ke dalam\n",
    "    \n",
    "# Statement if..elif..else\n",
    "x=7\n",
    "if x%2 ==0: #jika sisa bagi x dengan 2 sama dengan 0\n",
    "    print(\"x hbas dibagi dua\")\n",
    "elif x%3 ==0: #jika sisa bagi x dengan 3 sama dengan 0\n",
    "    print(\"x habis dibagi tiga\")\n",
    "elif x%5 ==0: #jika sisa bagi x dengan 5 sama dengan 0\n",
    "    print(\"x habis dibagi lima\")\n",
    "else:\n",
    "    print(\"x tidak habis dibagi dua, tiga ataupun lima\")"
   ]
  },
  {
   "cell_type": "markdown",
   "metadata": {},
   "source": [
    "## Python Nested IF Statement"
   ]
  },
  {
   "cell_type": "markdown",
   "metadata": {},
   "source": [
    "KIta dapat membuat statement if...elif...else didalam statemnt if...elif...else lainnya. Ini disebut netsing dalam computer programming.\n",
    "\n",
    "Sejumlah pernyataan ini dapat bersarang(nesting) didalam stau sama lain. Indentasi adalah satu-satunya cara untuk mengetahui tingkat bersarang. Mereka bisa membingungkan, jadi mereka harus dihindrai kecuali jika perlu."
   ]
  },
  {
   "cell_type": "markdown",
   "metadata": {},
   "source": [
    "#### Example: Python NESTED IF statement"
   ]
  },
  {
   "cell_type": "code",
   "execution_count": 14,
   "metadata": {},
   "outputs": [
    {
     "name": "stdout",
     "output_type": "stream",
     "text": [
      "Masukkan angka:9\n",
      "Bilangan Positif\n"
     ]
    }
   ],
   "source": [
    "# Program disusun untuk mengecek apakah angka merupakan bilangan positif, negatif atau nol.\n",
    "# dan menampilkan tulisan yang sesuai\n",
    "\n",
    "angka = float(input(\"Masukkan angka:\"))\n",
    "if angka >= 0:\n",
    "    if angka == 0:\n",
    "        print(\"Nol\")\n",
    "    else:\n",
    "        print(\"Bilangan Positif\")\n",
    "else:\n",
    "    print(\"Bilangan Negatif\")"
   ]
  },
  {
   "cell_type": "markdown",
   "metadata": {},
   "source": [
    "### Latihan"
   ]
  },
  {
   "cell_type": "markdown",
   "metadata": {},
   "source": [
    "1. Buatlah sebuah fungsi \"Mahal_Diskon\" dengan ketentuan:\n",
    " - input berupa data harga produk dengan tipe data numerik Tunggal\n",
    " - kategori input adalah \"Murah\" dan \"Mahal\", kemudian diskon ada 3 kategori \"10%\", \"20%\", dan \"40%\"\n",
    " - Output pertama sebuah teks/string yang menyatakan \"Mahal\" atau \"Murah\" dan keterangan \"Kamu dapat diskon...\"\n",
    " - Output Kedua adalah harga yg perlu dibayarkan"
   ]
  },
  {
   "cell_type": "code",
   "execution_count": 10,
   "metadata": {},
   "outputs": [
    {
     "name": "stdout",
     "output_type": "stream",
     "text": [
      "Total belanja Rp. 500000\n",
      "Mahal, kamu dapat diskon 40%\n",
      "Anda cukup bayar Rp.  300000.0\n"
     ]
    }
   ],
   "source": [
    "belanja = int(input('Total belanja Rp. '))\n",
    "\n",
    "if belanja >= 500000:\n",
    "    print('Mahal, kamu dapat diskon 40%')\n",
    "    bayar = belanja*(60/100)\n",
    "elif belanja >= 200000:\n",
    "    print('Mahal, kamu dapat diskon 20%')\n",
    "    bayar = belanja*(80/100)\n",
    "else:\n",
    "    print('Murah, kamu dapat diskon 10%')\n",
    "    bayar = belanja * (90/100)\n",
    "\n",
    "print('Anda cukup bayar Rp. ', bayar)"
   ]
  },
  {
   "cell_type": "markdown",
   "metadata": {},
   "source": [
    "2. Diberi sebuah string, tulislah sebuah fungsi python untuk memeriksa apakah string tersebut merupakan palidrom atau bukan.Sebuah string dikatakan palidrom jika susunan terbalik dari string tersebuat sama dengan string pada sususan awalnya. Misalnya \"radar\" adalah palidrom, tetapi \"radix\" bukanlah palidrom."
   ]
  },
  {
   "cell_type": "code",
   "execution_count": 1,
   "metadata": {},
   "outputs": [
    {
     "name": "stdout",
     "output_type": "stream",
     "text": [
      "radar\n",
      "palindrom\n"
     ]
    }
   ],
   "source": [
    "kata=input().lower()\n",
    "kata2=kata[::-1]\n",
    "if(kata==kata2):\n",
    "    print(\"palindrom\")\n",
    "else:\n",
    "    print(\"bukan palindrom\")"
   ]
  },
  {
   "cell_type": "markdown",
   "metadata": {},
   "source": [
    "3. Buatlah fungsi untuk menghitung diskon suatu pembayaran belanjaan dengan input berupa dictionary untuk daftar harga dan dictionary untuk daftar belanjaan."
   ]
  },
  {
   "cell_type": "code",
   "execution_count": 2,
   "metadata": {},
   "outputs": [
    {
     "name": "stdout",
     "output_type": "stream",
     "text": [
      "120000\n"
     ]
    }
   ],
   "source": [
    "daftar_harga = {'telur/kg':20000, 'gula_pasir/kg':16000, 'teh/bks':4000}\n",
    "daftar_belanjaan = {'telur':2, 'gula_pasir':5}\n",
    "\n",
    "harga = [daftar_belanjaan['telur']*daftar_harga['telur/kg'], \n",
    "         daftar_belanjaan['gula_pasir']*daftar_harga['gula_pasir/kg']]\n",
    "jumlah_bayar = 0\n",
    "\n",
    "for bayar in harga:\n",
    "  jumlah_bayar += bayar\n",
    "print(jumlah_bayar)"
   ]
  }
 ],
 "metadata": {
  "kernelspec": {
   "display_name": "Python 3",
   "language": "python",
   "name": "python3"
  },
  "language_info": {
   "codemirror_mode": {
    "name": "ipython",
    "version": 3
   },
   "file_extension": ".py",
   "mimetype": "text/x-python",
   "name": "python",
   "nbconvert_exporter": "python",
   "pygments_lexer": "ipython3",
   "version": "3.7.6"
  }
 },
 "nbformat": 4,
 "nbformat_minor": 4
}
