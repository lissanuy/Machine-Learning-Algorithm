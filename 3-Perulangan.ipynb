{
 "cells": [
  {
   "cell_type": "markdown",
   "metadata": {},
   "source": [
    "## Looping/Perulangan"
   ]
  },
  {
   "cell_type": "markdown",
   "metadata": {},
   "source": [
    "Python mnyedikan dua statement untuk melakukan proses perulangan yaitu for dan while. Diantara kedua statement ini. secara umum for lebih banyak digunakan darpada while."
   ]
  },
  {
   "cell_type": "markdown",
   "metadata": {},
   "source": [
    "### For Loop"
   ]
  },
  {
   "cell_type": "markdown",
   "metadata": {},
   "source": [
    "Perulangan for digunakan untuk melakukan iterasi id alam squence speeti list, tuple, string, dan array atau objek yang didapat diiterasi lainnya."
   ]
  },
  {
   "cell_type": "markdown",
   "metadata": {},
   "source": [
    "#### For Loop Syntax"
   ]
  },
  {
   "cell_type": "code",
   "execution_count": null,
   "metadata": {},
   "outputs": [],
   "source": [
    "for val in sequence:\n",
    "    loop body"
   ]
  },
  {
   "cell_type": "markdown",
   "metadata": {},
   "source": [
    "Pada proses iterasi ini, val adalah variabel yang diambil dari elemn-elemen di dlama sequence untuk setiap iterasi.\n",
    "\n",
    "Perulangan akan berlangsung hingga elemen terakhr dari sequence. Pada bagian body dari for loop diletakkan dalam identensi."
   ]
  },
  {
   "cell_type": "markdown",
   "metadata": {},
   "source": [
    "#### Example: Python for Loop"
   ]
  },
  {
   "cell_type": "code",
   "execution_count": 1,
   "metadata": {},
   "outputs": [
    {
     "name": "stdout",
     "output_type": "stream",
     "text": [
      "Jumlah: 48\n"
     ]
    }
   ],
   "source": [
    "# Program untuk menghitung jumlah semua angka dalam sebuah list\n",
    "\n",
    "#list angka\n",
    "list_angka=[6,5,3,8,4,2,5,4,11]\n",
    "\n",
    "#variabel untuk menyimpan hasil penjumlahan\n",
    "jumlahan=0\n",
    "\n",
    "#iterasi di dalam list\n",
    "for angka in list_angka:\n",
    "    jumlahan = jumlahan+angka\n",
    "    \n",
    "print(\"Jumlah:\", jumlahan)"
   ]
  },
  {
   "cell_type": "markdown",
   "metadata": {},
   "source": [
    "#### The Range() function"
   ]
  },
  {
   "cell_type": "markdown",
   "metadata": {},
   "source": [
    "kita dapat membuat sequence angka menggunakan fungsi range(). range (10) akan menghasilkan sequence angka dari 0 smapai 9 (10 angka)\n",
    "\n",
    "kita juga dapat mendefinisikan nilai awal, nilai akhir dan step sizenya yaitu range (strat, stp, step_siz).\n",
    "secara default step_size bernilai 1 jika tidak ditentukan secara khusus.\n",
    "\n",
    "kita dapat menggunakan fungsi range () didalam perulangan for untuk melakukan iterasi di dalam sequence number. Ini dpat kita kombinasikan dengan fungsi len() untuk melakukan iterasi melalui index dari sebuah sequence. Berikut contohnya:\n"
   ]
  },
  {
   "cell_type": "code",
   "execution_count": 3,
   "metadata": {},
   "outputs": [
    {
     "name": "stdout",
     "output_type": "stream",
     "text": [
      "Aku suka dangdut\n",
      "Aku suka campursari\n",
      "Aku suka keroncong\n"
     ]
    }
   ],
   "source": [
    "#Program untuk melakukan iterasi di dlama list melaluiindeks\n",
    "\n",
    "musik = ['dangdut', 'campursari','keroncong']\n",
    "\n",
    "#iterasi di dlam list melalui indeks\n",
    "for i in range (len(musik)):\n",
    "    print(\"Aku suka\", musik[i])"
   ]
  },
  {
   "cell_type": "markdown",
   "metadata": {},
   "source": [
    "#### For Loop with Else"
   ]
  },
  {
   "cell_type": "markdown",
   "metadata": {},
   "source": [
    "Sebuah for loop dapat memiliki opsi blok else. Blok else akan dijalankan jika iterasi telah selesai dlakukan dalam sebuah sequence.\n",
    "\n",
    "Keyword break digunakan untuk menghentikan iterasi. Dalam kasus itu maka bagian else diabaiakna.\n",
    "\n",
    "Sehingga, bagian iterasi else hanya dijalankan jika tidak terjadi break.\n",
    "\n",
    "Berikut adlah beberpa contoh sebagai ilustraasi."
   ]
  },
  {
   "cell_type": "code",
   "execution_count": 6,
   "metadata": {},
   "outputs": [
    {
     "name": "stdout",
     "output_type": "stream",
     "text": [
      "0\n",
      "1\n",
      "5\n",
      "Tidak ada elemen yang tersisa.\n"
     ]
    }
   ],
   "source": [
    "digits = [0,1,5]\n",
    "\n",
    "for i in digits:\n",
    "    print(i)\n",
    "else:\n",
    "    print(\"Tidak ada elemen yang tersisa.\")"
   ]
  },
  {
   "cell_type": "markdown",
   "metadata": {},
   "source": [
    "ketika iterasi berjalan maka akan dilakukan print item hingga iterasi selesai. Ketika iterasi pada sequence selesai baru perintah pada blok else dijalankan yaitu print Tidak ada elemen yang tersisa.\n",
    "\n",
    "Statement for ... else dapat digunakan bersama dengan keyword break untuk menjalankan blok else hanya ketika break dikskusi. Lihat contoh berikut:"
   ]
  },
  {
   "cell_type": "code",
   "execution_count": 10,
   "metadata": {},
   "outputs": [
    {
     "name": "stdout",
     "output_type": "stream",
     "text": [
      "Tidak ada data nilai atas nama Butet !\n"
     ]
    }
   ],
   "source": [
    "# Program untuk menampilkan nilai tugas siswa.\n",
    "nama_siswa = 'Butet'\n",
    "\n",
    "daftar_nilai={'Bambang': 90, 'Andri':55, 'Candra':77}\n",
    "\n",
    "for siswa in daftar_nilai:\n",
    "    if siswa == nama_siswa:\n",
    "         Print(daftar_nilai[siswa])\n",
    "         break\n",
    "else:\n",
    "     print('Tidak ada data nilai atas nama', nama_siswa, '!')"
   ]
  },
  {
   "cell_type": "markdown",
   "metadata": {},
   "source": [
    "## While Loop"
   ]
  },
  {
   "cell_type": "markdown",
   "metadata": {},
   "source": [
    "While loop pada Python digunakan untuk melakukan iterasi pada blok kode selama nilai dari test expression adalah true.\n",
    "\n",
    "Looping ini biasanya digunakan ketika kita tidak tau berapa kali iterasi akan dilakukan hingga sebuha kondisi yang diinginkan dapat tercapai."
   ]
  },
  {
   "cell_type": "markdown",
   "metadata": {},
   "source": [
    "#### Syntax of While Loop in Python"
   ]
  },
  {
   "cell_type": "code",
   "execution_count": null,
   "metadata": {},
   "outputs": [],
   "source": [
    "while test_expression:\n",
    "    Body of while"
   ]
  },
  {
   "cell_type": "markdown",
   "metadata": {},
   "source": [
    "pada loop while, test expression justru dicheck pertama kali. Kemudia statement-statement didalam body of while akan dieksekusi jika nilai dari test expression adalah true. Setelah satu iterasi dijalankan, test expression dicek kembali. Proses ini terus berlanjur hingga nilai evaluasi dari test expression adalah False.\n",
    "\n",
    "Pada python, bagian body pada loop while dituliskan menggunakan indentasi.\n",
    "\n",
    "Sebagai catatan tambahan bahwa Python Menginterpretasikan non-zero values sebagai True- None dan 0 diinterpretasikan sebagai False."
   ]
  },
  {
   "cell_type": "markdown",
   "metadata": {},
   "source": [
    "#### Example : Python While Loop"
   ]
  },
  {
   "cell_type": "code",
   "execution_count": 12,
   "metadata": {},
   "outputs": [
    {
     "name": "stdout",
     "output_type": "stream",
     "text": [
      "Jumlahan= 55\n"
     ]
    }
   ],
   "source": [
    "# Program untuk menjumlahkan semua\n",
    "# bilangan asli hingga suku ke-n\n",
    "# jumlahan=1+2+3+...+n\n",
    "\n",
    "n=10\n",
    "\n",
    "#nilai awal penjumlahan dan iterasi\n",
    "jumlahan=0\n",
    "i=1\n",
    "\n",
    "while i<= n:\n",
    "    jumlahan = jumlahan+i\n",
    "    i=i+1   # update iterasi\n",
    "    \n",
    "#cetak hasil penjumlahan\n",
    "print(\"Jumlahan=\", jumlahan)\n"
   ]
  },
  {
   "cell_type": "markdown",
   "metadata": {},
   "source": [
    "pada program di atas, test expression akan bernilai True selama nilai iterasi i kurang dari atau sama dengan n.\n",
    "\n",
    "Kita perlu mengupadte nilai dari variabel pencatat iterasi i agar iterasi tidak berlangsung secara terus-menerus(infinity loop)\n"
   ]
  },
  {
   "cell_type": "markdown",
   "metadata": {},
   "source": [
    "#### While Loop with Else"
   ]
  },
  {
   "cell_type": "markdown",
   "metadata": {},
   "source": [
    "sama dengan for loop kita juga dapat mengkombinasikan while loop denga blok else.\n",
    "\n",
    "Bagian else akan dieksekusi jika nilai pada test expression pada while loop bernilai False.\n",
    "Perhatikan contoh berikut:"
   ]
  },
  {
   "cell_type": "code",
   "execution_count": 13,
   "metadata": {},
   "outputs": [
    {
     "name": "stdout",
     "output_type": "stream",
     "text": [
      "Di dalam Loop\n",
      "Di dalam Loop\n",
      "Di dalam Loop\n",
      "Di dalam else\n"
     ]
    }
   ],
   "source": [
    "counter=0\n",
    "\n",
    "while counter <3:\n",
    "    print(\"Di dalam Loop\")\n",
    "    counter = counter+1\n",
    "else:\n",
    "    print(\"Di dalam else\")"
   ]
  },
  {
   "cell_type": "markdown",
   "metadata": {},
   "source": [
    "## Contoh Pengunaan Perulangan"
   ]
  },
  {
   "cell_type": "markdown",
   "metadata": {},
   "source": [
    "#### Contoh 1:"
   ]
  },
  {
   "cell_type": "markdown",
   "metadata": {},
   "source": [
    "Diberikan list_tagihan. Kamu diminta untuk menghitung jumlah seluruh tagihan!. Gunakan looping for untuk menyelesaikan tugas ini! Simpan hasilnya pada variabel total_tagihan!"
   ]
  },
  {
   "cell_type": "code",
   "execution_count": 14,
   "metadata": {},
   "outputs": [
    {
     "name": "stdout",
     "output_type": "stream",
     "text": [
      "550000\n"
     ]
    }
   ],
   "source": [
    "list_tagihan=[50000,75000,-150000,125000, 300000, -50000, 200000]\n",
    "total_tagihan = 0\n",
    "for tagihan in list_tagihan : # untuk setiap tagihan dalam list_tagihan\n",
    "    total_tagihan += tagihan # tambahkan tagohan ke total_tagihan\n",
    "print(total_tagihan)"
   ]
  },
  {
   "cell_type": "markdown",
   "metadata": {},
   "source": [
    "#### Contoh 2 "
   ]
  },
  {
   "cell_type": "markdown",
   "metadata": {},
   "source": [
    "Diberikan list_tagihan. Kamu diminta untuk menghitung jumlah seluruh tagihan!. Gunakan looping for untuk menyelesaikan tugas ini! Simpan hasilnya pada variabel total_tagihan!\n",
    "\n",
    "Perhatikan bahwa terdapat nilai tagihan yang negatif. hentikan perhitungan total_tagihan jika menemukan nilai negatif!"
   ]
  },
  {
   "cell_type": "code",
   "execution_count": 15,
   "metadata": {},
   "outputs": [
    {
     "name": "stdout",
     "output_type": "stream",
     "text": [
      "terdapat angka minus dalam tagihan, perhitungan dihentikan!\n",
      "125000\n"
     ]
    }
   ],
   "source": [
    "list_tagihan=[50000,75000,-150000,125000, 300000, -50000, 200000]\n",
    "total_tagihan = 0\n",
    "for tagihan in list_tagihan : \n",
    "    if tagihan <0:\n",
    "        print (\"terdapat angka minus dalam tagihan, perhitungan dihentikan!\")\n",
    "        break        \n",
    "    total_tagihan += tagihan \n",
    "print(total_tagihan)"
   ]
  },
  {
   "cell_type": "markdown",
   "metadata": {},
   "source": [
    "#### Contoh 3"
   ]
  },
  {
   "cell_type": "markdown",
   "metadata": {},
   "source": [
    "Diberikan list_cash_flow kamu diminta untuk melakukan penghitungan total_pemasukan dan total_pengeluaran menggunakan looping for. Untuk Nilai positif berarti adalah pemasukan dan nilai negatif berarti adalah pengeluaran."
   ]
  },
  {
   "cell_type": "code",
   "execution_count": 20,
   "metadata": {},
   "outputs": [
    {
     "name": "stdout",
     "output_type": "stream",
     "text": [
      "12500000\n",
      "65000000\n"
     ]
    }
   ],
   "source": [
    "list_cash_flow=[\n",
    "2500000, 5000000, -1000000, -2500000, 5000000, 10000000,\n",
    "-5000000, 7500000, 10000000, -1500000, 25000000, -2500000\n",
    "]\n",
    "total_pengeluaran, total_pemasukan= 0,0\n",
    "for dana in list_cash_flow:\n",
    "    if dana>0:\n",
    "        total_pemasukan += dana\n",
    "    else:\n",
    "        total_pengeluaran += dana\n",
    "total_pengeluaran *= -1\n",
    "print(total_pengeluaran)\n",
    "print(total_pemasukan)"
   ]
  },
  {
   "cell_type": "markdown",
   "metadata": {},
   "source": [
    "### Latihan "
   ]
  },
  {
   "cell_type": "markdown",
   "metadata": {},
   "source": [
    "1. Buatlah fungsi untuk menghitung diskon suatu pembayaran belanjaan dengan input berupa dictionary untuk daftar harga dan dictionary untuk daftar belanjaan."
   ]
  },
  {
   "cell_type": "code",
   "execution_count": 12,
   "metadata": {},
   "outputs": [
    {
     "name": "stdout",
     "output_type": "stream",
     "text": [
      "120000\n"
     ]
    }
   ],
   "source": [
    "daftar_harga = {'telur/kg':20000, 'gula_pasir/kg':16000, 'teh/bks':4000}\n",
    "daftar_belanjaan = {'telur':2, 'gula_pasir':5}\n",
    "\n",
    "harga = [daftar_belanjaan['telur']*daftar_harga['telur/kg'], \n",
    "         daftar_belanjaan['gula_pasir']*daftar_harga['gula_pasir/kg']]\n",
    "jumlah_bayar = 0\n",
    "\n",
    "for bayar in harga:\n",
    "  jumlah_bayar += bayar\n",
    "print(jumlah_bayar)"
   ]
  }
 ],
 "metadata": {
  "kernelspec": {
   "display_name": "Python 3",
   "language": "python",
   "name": "python3"
  },
  "language_info": {
   "codemirror_mode": {
    "name": "ipython",
    "version": 3
   },
   "file_extension": ".py",
   "mimetype": "text/x-python",
   "name": "python",
   "nbconvert_exporter": "python",
   "pygments_lexer": "ipython3",
   "version": "3.7.6"
  }
 },
 "nbformat": 4,
 "nbformat_minor": 4
}
